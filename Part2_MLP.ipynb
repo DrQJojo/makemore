{
  "nbformat": 4,
  "nbformat_minor": 0,
  "metadata": {
    "colab": {
      "provenance": []
    },
    "kernelspec": {
      "name": "python3",
      "display_name": "Python 3"
    },
    "language_info": {
      "name": "python"
    }
  },
  "cells": [
    {
      "cell_type": "code",
      "execution_count": 1,
      "metadata": {
        "id": "OgYJqZGyjO-j"
      },
      "outputs": [],
      "source": [
        "import torch\n",
        "import torch.nn.functional as F\n",
        "import matplotlib.pyplot as plt\n",
        "%matplotlib inline"
      ]
    },
    {
      "cell_type": "code",
      "source": [
        "words = open(r'/content/drive/MyDrive/makemore/names.txt','r').read().splitlines()\n",
        "words[:8]"
      ],
      "metadata": {
        "colab": {
          "base_uri": "https://localhost:8080/"
        },
        "id": "WQlJXDAvmAUo",
        "outputId": "a7a0f831-4f32-4ed0-cb8c-5140ffdbc6b4"
      },
      "execution_count": 2,
      "outputs": [
        {
          "output_type": "execute_result",
          "data": {
            "text/plain": [
              "['emma', 'olivia', 'ava', 'isabella', 'sophia', 'charlotte', 'mia', 'amelia']"
            ]
          },
          "metadata": {},
          "execution_count": 2
        }
      ]
    },
    {
      "cell_type": "code",
      "source": [
        "len(words)"
      ],
      "metadata": {
        "colab": {
          "base_uri": "https://localhost:8080/"
        },
        "id": "B9gvgvZVmASs",
        "outputId": "502d3ad5-a409-49a8-fd75-cbaf4dceb695"
      },
      "execution_count": 3,
      "outputs": [
        {
          "output_type": "execute_result",
          "data": {
            "text/plain": [
              "32033"
            ]
          },
          "metadata": {},
          "execution_count": 3
        }
      ]
    },
    {
      "cell_type": "code",
      "source": [
        "chars = sorted(list(set(''.join(words))))\n",
        "stoi = {s:(i+1) for i,s in enumerate(chars)}\n",
        "stoi['.'] = 0\n",
        "itos = {(i+1):s for i,s in enumerate(chars)}\n",
        "itos[0] = '.'"
      ],
      "metadata": {
        "id": "WpOxsodamAQF"
      },
      "execution_count": 4,
      "outputs": []
    },
    {
      "cell_type": "code",
      "source": [
        "# build the dataset\n",
        "block_size = 3 # context length: how many characters do we take to predict the next one\n",
        "X,Y = [],[]\n",
        "for w in words[:5]:\n",
        "  print(w)\n",
        "  context = [0] * block_size\n",
        "  for ch in w+'.':\n",
        "    ix = stoi[ch]\n",
        "    X.append(context)\n",
        "    Y.append(ix)\n",
        "    print(''.join(itos[i] for i in context), '------>', itos[ix])\n",
        "    context = context[1:] + [ix] # crop and append\n",
        "X = torch.tensor(X)\n",
        "Y = torch.tensor(Y)"
      ],
      "metadata": {
        "id": "Jpv_tPNgmAN0",
        "colab": {
          "base_uri": "https://localhost:8080/"
        },
        "outputId": "9add1561-f70c-4d63-f964-f6400f3dccfd"
      },
      "execution_count": 5,
      "outputs": [
        {
          "output_type": "stream",
          "name": "stdout",
          "text": [
            "emma\n",
            "... ------> e\n",
            "..e ------> m\n",
            ".em ------> m\n",
            "emm ------> a\n",
            "mma ------> .\n",
            "olivia\n",
            "... ------> o\n",
            "..o ------> l\n",
            ".ol ------> i\n",
            "oli ------> v\n",
            "liv ------> i\n",
            "ivi ------> a\n",
            "via ------> .\n",
            "ava\n",
            "... ------> a\n",
            "..a ------> v\n",
            ".av ------> a\n",
            "ava ------> .\n",
            "isabella\n",
            "... ------> i\n",
            "..i ------> s\n",
            ".is ------> a\n",
            "isa ------> b\n",
            "sab ------> e\n",
            "abe ------> l\n",
            "bel ------> l\n",
            "ell ------> a\n",
            "lla ------> .\n",
            "sophia\n",
            "... ------> s\n",
            "..s ------> o\n",
            ".so ------> p\n",
            "sop ------> h\n",
            "oph ------> i\n",
            "phi ------> a\n",
            "hia ------> .\n"
          ]
        }
      ]
    },
    {
      "cell_type": "code",
      "source": [
        "X.shape,X.dtype,Y.shape,Y.dtype"
      ],
      "metadata": {
        "colab": {
          "base_uri": "https://localhost:8080/"
        },
        "id": "IPLivzLXmALH",
        "outputId": "c72e40f5-8b4a-4ad6-f66f-2024aa28d2a5"
      },
      "execution_count": 6,
      "outputs": [
        {
          "output_type": "execute_result",
          "data": {
            "text/plain": [
              "(torch.Size([32, 3]), torch.int64, torch.Size([32]), torch.int64)"
            ]
          },
          "metadata": {},
          "execution_count": 6
        }
      ]
    },
    {
      "cell_type": "code",
      "source": [
        "# matrix C is used to embed the character (one-hot vector of length 27) into a 2 dimensions vector\n",
        "C = torch.randn((27,2))"
      ],
      "metadata": {
        "id": "hMwMykrfmAIo"
      },
      "execution_count": 7,
      "outputs": []
    },
    {
      "cell_type": "code",
      "source": [
        "# each sample have 3 features, each feature is one-hot encoded to a 27 dimensions vector, and each one-hot vector is embedded into a 2 dimensions vector\n",
        "# so for each sample, there are 2*3=6 features\n",
        "emb = C[X] # it's equal to F.one_hot(X,num_classes=27).float() @ C\n",
        "emb.shape"
      ],
      "metadata": {
        "colab": {
          "base_uri": "https://localhost:8080/"
        },
        "id": "43y0G0fymAGx",
        "outputId": "cc472d8b-2524-401b-9740-b47c689e3f8c"
      },
      "execution_count": 8,
      "outputs": [
        {
          "output_type": "execute_result",
          "data": {
            "text/plain": [
              "torch.Size([32, 3, 2])"
            ]
          },
          "metadata": {},
          "execution_count": 8
        }
      ]
    },
    {
      "cell_type": "code",
      "source": [
        "# initialize the first layer with 100 neurons\n",
        "W1 = torch.randn((6,100))\n",
        "b1 = torch.randn(100)"
      ],
      "metadata": {
        "id": "FT72gZozl__d"
      },
      "execution_count": 9,
      "outputs": []
    },
    {
      "cell_type": "code",
      "source": [
        "# note emb is 32*3*2, so we have to reshape it to 32*6\n",
        "# the difference between reshape and view:\n",
        "# view is more memory-efficient, for A = B.view(...), if A changes, B changes too\n",
        "# reshape makes a copy of the original data, for A = B.reshape(...), if A changes, B does NOT change\n",
        "h = emb.view(emb.shape[0],-1) @ W1 + b1"
      ],
      "metadata": {
        "id": "7OUbU0PSl_9S"
      },
      "execution_count": 10,
      "outputs": []
    },
    {
      "cell_type": "code",
      "source": [
        "# review on why the broadcasting works\n",
        "print((emb.view(emb.shape[0],-1) @ W1).shape)\n",
        "print(b1.shape)\n",
        "# so according to the broadcasting rule\n",
        "# 32 100\n",
        "#   100  align to the right"
      ],
      "metadata": {
        "colab": {
          "base_uri": "https://localhost:8080/"
        },
        "id": "UoCISWmQl_67",
        "outputId": "10c1382f-3dfe-4437-cd6d-4b8c30095e8e"
      },
      "execution_count": 11,
      "outputs": [
        {
          "output_type": "stream",
          "name": "stdout",
          "text": [
            "torch.Size([32, 100])\n",
            "torch.Size([100])\n"
          ]
        }
      ]
    },
    {
      "cell_type": "code",
      "source": [
        "# initialize the second, which is also the last, layer\n",
        "W2 = torch.randn((100,27))\n",
        "b2 = torch.randn(27)"
      ],
      "metadata": {
        "id": "QQpH_mJEl_4g"
      },
      "execution_count": 12,
      "outputs": []
    },
    {
      "cell_type": "code",
      "source": [
        "logits = h @ W2 + b2\n",
        "counts = logits.exp()\n",
        "probs = counts/counts.sum(dim=1,keepdim=True)\n",
        "probs.shape"
      ],
      "metadata": {
        "colab": {
          "base_uri": "https://localhost:8080/"
        },
        "id": "lXWzbAu1l_2Q",
        "outputId": "0f4ff984-ebc4-43a4-e193-858c5cd221ef"
      },
      "execution_count": 13,
      "outputs": [
        {
          "output_type": "execute_result",
          "data": {
            "text/plain": [
              "torch.Size([32, 27])"
            ]
          },
          "metadata": {},
          "execution_count": 13
        }
      ]
    },
    {
      "cell_type": "code",
      "source": [
        "loss = -probs[torch.arange(32),Y].log().mean()\n",
        "loss"
      ],
      "metadata": {
        "colab": {
          "base_uri": "https://localhost:8080/"
        },
        "id": "HiPe_i-2l_zz",
        "outputId": "d710b7c2-4bc8-49d7-a618-c8ea166f1286"
      },
      "execution_count": 14,
      "outputs": [
        {
          "output_type": "execute_result",
          "data": {
            "text/plain": [
              "tensor(43.3042)"
            ]
          },
          "metadata": {},
          "execution_count": 14
        }
      ]
    },
    {
      "cell_type": "code",
      "source": [
        "# now let's wrap it up\n",
        "print(X.shape,Y.shape)\n",
        "g = torch.Generator().manual_seed(2147483647)\n",
        "C = torch.randn((27,2),generator=g)\n",
        "W1 = torch.randn((6,100),generator=g)\n",
        "b1 = torch.randn(100,generator=g)\n",
        "W2 = torch.randn((100,27),generator=g)\n",
        "b2 = torch.randn(27,generator=g)\n",
        "parameters = [C,W1,b1,W2,b2]\n",
        "sum(param.nelement() for param in parameters) # number of parameters in total"
      ],
      "metadata": {
        "colab": {
          "base_uri": "https://localhost:8080/"
        },
        "id": "AFCp1Nzv7hPE",
        "outputId": "948e8411-4258-4d1f-e196-db52d01e8f9a"
      },
      "execution_count": 15,
      "outputs": [
        {
          "output_type": "stream",
          "name": "stdout",
          "text": [
            "torch.Size([32, 3]) torch.Size([32])\n"
          ]
        },
        {
          "output_type": "execute_result",
          "data": {
            "text/plain": [
              "3481"
            ]
          },
          "metadata": {},
          "execution_count": 15
        }
      ]
    },
    {
      "cell_type": "code",
      "source": [
        "# forward pass\n",
        "emb = C[X]\n",
        "h = torch.tanh(emb.view(emb.shape[0],-1) @ W1 + b1) # add an activation function\n",
        "logits = h @ W2 + b2\n",
        "\n",
        "# before\n",
        "# counts = logits.exp()\n",
        "# probs = counts/counts.sum(dim=1,keepdim=True)\n",
        "# loss = -probs[torch.arange(32),Y].log().mean()\n",
        "\n",
        "# now let's use cross_entropy for multi classification, which will generate the same result\n",
        "loss = F.cross_entropy(logits,Y)\n",
        "loss"
      ],
      "metadata": {
        "colab": {
          "base_uri": "https://localhost:8080/"
        },
        "id": "F8JZDGoC8ww9",
        "outputId": "512a39dd-094d-42ac-8954-34b596b6ef02"
      },
      "execution_count": 16,
      "outputs": [
        {
          "output_type": "execute_result",
          "data": {
            "text/plain": [
              "tensor(17.7697)"
            ]
          },
          "metadata": {},
          "execution_count": 16
        }
      ]
    },
    {
      "cell_type": "code",
      "source": [
        "# why we should use F.cross_entropy() instead of what we did before in practice:\n",
        "# 1. pytorch does not create all the intermediate tensors, which is very memory-inefficient\n",
        "# 2. backward path will be much more efficient\n",
        "# 3. more numerically well behaved. here is an example\n",
        "# some values are very extreme, which may appear during optimization, for example -100 and 100\n",
        "logits = torch.tensor([-100,-3,0,100])\n",
        "counts = logits.exp()\n",
        "probs = counts/counts.sum()\n",
        "counts,probs\n",
        "# now the counts have a inf number, and probs have a nan number"
      ],
      "metadata": {
        "colab": {
          "base_uri": "https://localhost:8080/"
        },
        "id": "GFkGChvY8wup",
        "outputId": "e0ed0a77-8fe3-4e06-fb17-b414a948b235"
      },
      "execution_count": 17,
      "outputs": [
        {
          "output_type": "execute_result",
          "data": {
            "text/plain": [
              "(tensor([3.7835e-44, 4.9787e-02, 1.0000e+00,        inf]),\n",
              " tensor([0., 0., 0., nan]))"
            ]
          },
          "metadata": {},
          "execution_count": 17
        }
      ]
    },
    {
      "cell_type": "code",
      "source": [
        "# however, if we add an offset, the probs will work, and pytorch will add this offset for us efficiently\n",
        "logits = torch.tensor([-100,-3,0,4]) - 4 # note: with or without this offset, the probs will result the same\n",
        "counts = logits.exp()\n",
        "probs = counts/counts.sum()\n",
        "probs"
      ],
      "metadata": {
        "colab": {
          "base_uri": "https://localhost:8080/"
        },
        "id": "COG02xSA8wsT",
        "outputId": "a972a079-ea37-430b-f5ad-5a9d9fd64dd8"
      },
      "execution_count": 18,
      "outputs": [
        {
          "output_type": "execute_result",
          "data": {
            "text/plain": [
              "tensor([0.0000e+00, 8.9468e-04, 1.7970e-02, 9.8114e-01])"
            ]
          },
          "metadata": {},
          "execution_count": 18
        }
      ]
    },
    {
      "cell_type": "code",
      "source": [
        "# now let's add backward pass and put them together\n",
        "for p in parameters:\n",
        "  p.requires_grad = True\n",
        "\n",
        "for _ in range(1000):\n",
        "  # forward pass\n",
        "  emb = C[X]\n",
        "  h = torch.tanh(emb.view(emb.shape[0],-1) @ W1 + b1)\n",
        "  logits = h @ W2 + b2\n",
        "  loss = F.cross_entropy(logits,Y)\n",
        "  # print(loss.item())\n",
        "\n",
        "  # backward pass\n",
        "  for p in parameters:\n",
        "    p.grad = None\n",
        "  loss.backward()\n",
        "\n",
        "  # update\n",
        "  for p in parameters:\n",
        "    p.data -= 0.1 * p.grad\n",
        "\n",
        "print(loss.item())\n",
        "# we have a very low loss for the training set, and get overfitting :("
      ],
      "metadata": {
        "colab": {
          "base_uri": "https://localhost:8080/"
        },
        "id": "-R69KDK48wqF",
        "outputId": "2a258e81-8f1a-41bb-8b88-a174c4f9af6d"
      },
      "execution_count": 19,
      "outputs": [
        {
          "output_type": "stream",
          "name": "stdout",
          "text": [
            "0.2561509907245636\n"
          ]
        }
      ]
    },
    {
      "cell_type": "code",
      "source": [
        "logits.max(1)"
      ],
      "metadata": {
        "colab": {
          "base_uri": "https://localhost:8080/"
        },
        "id": "HXdw7O7p8wn0",
        "outputId": "a7b796dc-a3bc-4b21-a19b-20cb31df28c8"
      },
      "execution_count": 20,
      "outputs": [
        {
          "output_type": "execute_result",
          "data": {
            "text/plain": [
              "torch.return_types.max(\n",
              "values=tensor([13.3437, 17.7879, 20.5832, 20.6042, 16.7390, 13.3437, 15.9747, 14.1889,\n",
              "        15.9158, 18.3894, 15.9409, 20.9284, 13.3437, 17.1212, 17.1498, 20.0637,\n",
              "        13.3437, 16.4564, 15.1328, 17.0537, 18.5905, 15.9655, 10.8739, 10.6874,\n",
              "        15.5062, 13.3437, 16.2394, 16.9563, 12.7426, 16.2141, 19.0840, 16.0213],\n",
              "       grad_fn=<MaxBackward0>),\n",
              "indices=tensor([ 9, 13, 13,  1,  0,  9, 12,  9, 22,  9,  1,  0,  9, 22,  1,  0,  9, 19,\n",
              "         1,  2,  5, 12, 12,  1,  0,  9, 15, 16,  8,  9,  1,  0]))"
            ]
          },
          "metadata": {},
          "execution_count": 20
        }
      ]
    },
    {
      "cell_type": "code",
      "source": [
        "Y\n",
        "# we can see that the indices the model predicts are pretty close to the ground true labels\n",
        "# but we are not able to get loss=0\n",
        "# because we can see that for the beginning of a word, a ... can predict almost any character"
      ],
      "metadata": {
        "colab": {
          "base_uri": "https://localhost:8080/"
        },
        "id": "wA3yx-cm8wlh",
        "outputId": "4890cb07-f8c7-42a3-81b6-00df0392c553"
      },
      "execution_count": 21,
      "outputs": [
        {
          "output_type": "execute_result",
          "data": {
            "text/plain": [
              "tensor([ 5, 13, 13,  1,  0, 15, 12,  9, 22,  9,  1,  0,  1, 22,  1,  0,  9, 19,\n",
              "         1,  2,  5, 12, 12,  1,  0, 19, 15, 16,  8,  9,  1,  0])"
            ]
          },
          "metadata": {},
          "execution_count": 21
        }
      ]
    },
    {
      "cell_type": "code",
      "source": [
        "# now let's train the model on the whole dataset\n",
        "# for practice, I'll write all the codes again\n",
        "X,Y = [],[]\n",
        "block_size = 3\n",
        "for w in words:\n",
        "  context = [0] * block_size\n",
        "  for ch in w+'.':\n",
        "    ix = stoi[ch]\n",
        "    X.append(context)\n",
        "    Y.append(ix)\n",
        "    context = context[1:] + [ix]\n",
        "X = torch.tensor(X)\n",
        "Y = torch.tensor(Y)\n",
        "print(X.shape,Y.shape)\n",
        "\n",
        "# initialize the net\n",
        "g = torch.Generator().manual_seed(2147483647)\n",
        "C = torch.randn((27,2),generator=g)\n",
        "W1 = torch.randn((6,100),generator=g)\n",
        "b1 = torch.randn((100),generator=g)\n",
        "W2 = torch.randn((100,27),generator=g)\n",
        "b2 = torch.randn((27),generator=g)\n",
        "parameters = [C,W1,b1,W2,b2]\n",
        "print('number of parameters:',sum(p.nelement() for p in parameters))\n",
        "\n",
        "for p in parameters:\n",
        "  p.requires_grad = True\n",
        "\n",
        "for _ in range(10):\n",
        "  # forward pass\n",
        "  emb = C[X]\n",
        "  h = torch.tanh(emb.view(emb.shape[0],-1) @ W1 + b1)\n",
        "  logits = h @ W2 + b2\n",
        "  loss = F.cross_entropy(logits,Y)\n",
        "  print(loss.item())\n",
        "\n",
        "  # backward pass\n",
        "  for p in parameters:\n",
        "    p.grad = None\n",
        "  loss.backward()\n",
        "\n",
        "  # update\n",
        "  for p in parameters:\n",
        "    p.data -= 0.1 * p.grad"
      ],
      "metadata": {
        "colab": {
          "base_uri": "https://localhost:8080/"
        },
        "id": "Kc36EOhY8wjR",
        "outputId": "f0a723a5-c103-4216-8791-1b2d59ba18f1"
      },
      "execution_count": 22,
      "outputs": [
        {
          "output_type": "stream",
          "name": "stdout",
          "text": [
            "torch.Size([228146, 3]) torch.Size([228146])\n",
            "number of parameters: 3481\n",
            "19.505226135253906\n",
            "17.08449363708496\n",
            "15.776531219482422\n",
            "14.833340644836426\n",
            "14.002603530883789\n",
            "13.253260612487793\n",
            "12.57991886138916\n",
            "11.983101844787598\n",
            "11.47049331665039\n",
            "11.051856994628906\n"
          ]
        }
      ]
    },
    {
      "cell_type": "code",
      "source": [
        "# every epoch takes quite a long time, because there are too many samples (228146) to train for one epoch\n",
        "# now it's time to batch\n",
        "for _ in range(100):\n",
        "  # minibatch construct\n",
        "  ix = torch.randint(0,X.shape[0],(32,)) # it generates 32 random int numbers between 0 and X.shape[0]\n",
        "  # forward\n",
        "  emb = C[X[ix]]\n",
        "  h = torch.tanh(emb.view(X[ix].shape[0],-1)@W1+b1)\n",
        "  logits = h@W2+b2\n",
        "  loss = F.cross_entropy(logits,Y[ix])\n",
        "  # backward\n",
        "  for p in parameters:\n",
        "    p.grad = None\n",
        "  loss.backward()\n",
        "  # update\n",
        "  for p in parameters:\n",
        "    p.data -= 0.1*p.grad\n",
        "print(loss.item())\n",
        "# now it's much faster and roughly to the right direction"
      ],
      "metadata": {
        "id": "sYmCyDiH8wgw",
        "colab": {
          "base_uri": "https://localhost:8080/"
        },
        "outputId": "d08109db-6eb2-4fe8-86da-56f82eced319"
      },
      "execution_count": 31,
      "outputs": [
        {
          "output_type": "stream",
          "name": "stdout",
          "text": [
            "3.0235047340393066\n"
          ]
        }
      ]
    },
    {
      "cell_type": "code",
      "source": [
        "# the loss for the entire dataset\n",
        "emb = C[X]\n",
        "h = torch.tanh(emb.view(X.shape[0],-1)@W1+b1)\n",
        "logits = h@W2+b2\n",
        "loss = F.cross_entropy(logits,Y)\n",
        "loss.item()\n",
        "# it's pretty much the same"
      ],
      "metadata": {
        "id": "eNX05SLW8wec",
        "colab": {
          "base_uri": "https://localhost:8080/"
        },
        "outputId": "705dfd80-e35b-4efb-ed31-46054287fb6b"
      },
      "execution_count": 32,
      "outputs": [
        {
          "output_type": "execute_result",
          "data": {
            "text/plain": [
              "2.9217283725738525"
            ]
          },
          "metadata": {},
          "execution_count": 32
        }
      ]
    },
    {
      "cell_type": "code",
      "source": [
        "# now let's find a reasonable learning rate instead of a random guess (though 0.1 is quite reasonable)\n",
        "# reset the parameters\n",
        "g = torch.Generator().manual_seed(2147483647)\n",
        "C = torch.randn((27,2),generator=g)\n",
        "W1 = torch.randn((6,100),generator=g)\n",
        "b1 = torch.randn((100),generator=g)\n",
        "W2 = torch.randn((100,27),generator=g)\n",
        "b2 = torch.randn((27),generator=g)\n",
        "parameters = [C,W1,b1,W2,b2]\n",
        "for p in parameters:\n",
        "  p.requires_grad = True\n",
        "\n",
        "for _ in range(100):\n",
        "  # minibatch\n",
        "  ix = torch.randint(0,X.shape[0],(32,))\n",
        "\n",
        "  # forward\n",
        "  emb = C[X[ix]]\n",
        "  h = torch.tanh(emb.view(X[ix].shape[0],-1)@W1+b1)\n",
        "  logits = h@W2+b2\n",
        "  loss = F.cross_entropy(logits,Y[ix])\n",
        "  print(loss.item())\n",
        "\n",
        "  # backward\n",
        "  for p in parameters:\n",
        "    p.grad = None\n",
        "  loss.backward()\n",
        "\n",
        "  # update\n",
        "  for p in parameters:\n",
        "    p.data -= 10*p.grad\n",
        "# if lr=0.0001, the loss barely decreases\n",
        "# if lr=0.001, the loss decreases slowly\n",
        "# if lr=1, the loss decreases fast but is quite unstable (goes up and down)\n",
        "# if lr=10, the loss even increases\n",
        "# so the reasonable range for the learning rate maybe is [0.0001,1]"
      ],
      "metadata": {
        "id": "_GfXCK7s8wcR"
      },
      "execution_count": null,
      "outputs": []
    },
    {
      "cell_type": "code",
      "source": [
        "# one way to set learning rate range is\n",
        "lr = torch.linspace(0.0001,1,1000)\n",
        "# but there's no reason to take 1000 values linearly. A more efficient way is\n",
        "lre = torch.linspace(-3,0,1000)\n",
        "lrs = 10**lre # 10^(-3)=0.0001,10^0=1"
      ],
      "metadata": {
        "id": "fx3PprXE8waA"
      },
      "execution_count": 39,
      "outputs": []
    },
    {
      "cell_type": "code",
      "source": [
        "# next, let's track the loss for different learning rate\n",
        "# reset the parameters\n",
        "g = torch.Generator().manual_seed(2147483647)\n",
        "C = torch.randn((27,2),generator=g)\n",
        "W1 = torch.randn((6,100),generator=g)\n",
        "b1 = torch.randn((100),generator=g)\n",
        "W2 = torch.randn((100,27),generator=g)\n",
        "b2 = torch.randn((27),generator=g)\n",
        "parameters = [C,W1,b1,W2,b2]\n",
        "for p in parameters:\n",
        "  p.requires_grad = True\n",
        "\n",
        "lri = []\n",
        "lossi = []\n",
        "\n",
        "for i in range(1000):\n",
        "  # minibatch\n",
        "  ix = torch.randint(0,X.shape[0],(32,))\n",
        "\n",
        "  # forward\n",
        "  emb = C[X[ix]]\n",
        "  h = torch.tanh(emb.view(X[ix].shape[0],-1)@W1+b1)\n",
        "  logits = h@W2+b2\n",
        "  loss = F.cross_entropy(logits,Y[ix])\n",
        "  #print(loss.item())\n",
        "\n",
        "  # backward\n",
        "  for p in parameters:\n",
        "    p.grad = None\n",
        "  loss.backward()\n",
        "\n",
        "  # update\n",
        "  lr = lrs[i]\n",
        "  for p in parameters:\n",
        "    p.data -= lr*p.grad\n",
        "\n",
        "  # track stats\n",
        "  lri.append(lre[i])\n",
        "  lossi.append(loss.item())\n",
        "\n",
        "plt.plot(lri,lossi)\n",
        "# from the plot, we can see that 10^(-1.0) is fairly a good choice\n",
        "# plus, we can implement learning rate decay, which is,\n",
        "# roughly speaking, train the model with one learning rate for a while, then use a smaller learning rate to train the model, then again and again"
      ],
      "metadata": {
        "id": "XqKn9hZJ8wXw",
        "colab": {
          "base_uri": "https://localhost:8080/",
          "height": 448
        },
        "outputId": "d9ebc7f8-5f42-436f-bf8d-91a942e547c7"
      },
      "execution_count": 40,
      "outputs": [
        {
          "output_type": "execute_result",
          "data": {
            "text/plain": [
              "[<matplotlib.lines.Line2D at 0x7ce5b0230550>]"
            ]
          },
          "metadata": {},
          "execution_count": 40
        },
        {
          "output_type": "display_data",
          "data": {
            "text/plain": [
              "<Figure size 640x480 with 1 Axes>"
            ],
            "image/png": "[encoded data removed]"
          },
          "metadata": {}
        }
      ]
    },
    {
      "cell_type": "code",
      "source": [
        "# train/validation/test split -- 80%,10%,10%\n",
        "# training set is used to train the parameters\n",
        "# validation set is used to train the hyperparameters\n",
        "# test set is used to evaluate the performance of the model at the end\n",
        "# now let's split the whole dataset\n",
        "\n",
        "def build_dataset(words):\n",
        "  block_size = 3\n",
        "  X,Y = [],[]\n",
        "  for w in words:\n",
        "    context = [0]*block_size\n",
        "    for ch in w+'.':\n",
        "      ix = stoi[ch]\n",
        "      X.append(context)\n",
        "      Y.append(ix)\n",
        "      context = context[1:] + [ix]\n",
        "  X = torch.tensor(X)\n",
        "  Y = torch.tensor(Y)\n",
        "  print(X.shape,Y.shape)\n",
        "  return X,Y\n",
        "\n",
        "import random\n",
        "random.seed(42)\n",
        "random.shuffle(words)\n",
        "n1 = int(0.8*len(words))\n",
        "n2 = int(0.9*len(words))\n",
        "Xtr,Ytr = build_dataset(words[:n1])\n",
        "Xdev,Ydev = build_dataset(words[n1:n2])\n",
        "Xte,Yte = build_dataset(words[n2:])"
      ],
      "metadata": {
        "id": "a9wODdbr8wVX",
        "colab": {
          "base_uri": "https://localhost:8080/"
        },
        "outputId": "531c4eb5-4330-47d1-9067-625c593ca3a9"
      },
      "execution_count": 42,
      "outputs": [
        {
          "output_type": "stream",
          "name": "stdout",
          "text": [
            "torch.Size([182580, 3]) torch.Size([182580])\n",
            "torch.Size([22767, 3]) torch.Size([22767])\n",
            "torch.Size([22799, 3]) torch.Size([22799])\n"
          ]
        }
      ]
    },
    {
      "cell_type": "code",
      "source": [
        "# now we will only use the training set to train our model\n",
        "g = torch.Generator().manual_seed(2147483647)\n",
        "C = torch.randn((27,2),generator=g)\n",
        "W1 = torch.randn((6,100),generator=g)\n",
        "b1 = torch.randn((100),generator=g)\n",
        "W2 = torch.randn((100,27),generator=g)\n",
        "b2 = torch.randn((27),generator=g)\n",
        "parameters = [C,W1,b1,W2,b2]\n",
        "for p in parameters:\n",
        "  p.requires_grad = True\n",
        "\n",
        "for i in range(10000):\n",
        "  # minibatch\n",
        "  ix = torch.randint(0,Xtr.shape[0],(32,))\n",
        "\n",
        "  # forward\n",
        "  emb = C[Xtr[ix]]\n",
        "  h = torch.tanh(emb.view(Xtr[ix].shape[0],-1)@W1+b1)\n",
        "  logits = h@W2+b2\n",
        "  loss = F.cross_entropy(logits,Ytr[ix])\n",
        "  #print(loss.item())\n",
        "\n",
        "  # backward\n",
        "  for p in parameters:\n",
        "    p.grad = None\n",
        "  loss.backward()\n",
        "\n",
        "  # update\n",
        "  lr = 0.1\n",
        "  for p in parameters:\n",
        "    p.data -= lr*p.grad\n",
        "print(loss.item())"
      ],
      "metadata": {
        "colab": {
          "base_uri": "https://localhost:8080/"
        },
        "id": "5wdXF7B9j8A3",
        "outputId": "a9e6d6e8-259f-42a2-d6a9-e4ee5946ed0a"
      },
      "execution_count": 46,
      "outputs": [
        {
          "output_type": "stream",
          "name": "stdout",
          "text": [
            "2.4413938522338867\n"
          ]
        }
      ]
    },
    {
      "cell_type": "code",
      "source": [
        "# the loss on the entire training set\n",
        "emb = C[Xtr]\n",
        "h = torch.tanh(emb.view(Xtr.shape[0],-1)@W1+b1)\n",
        "logits = h@W2+b2\n",
        "loss = F.cross_entropy(logits,Ytr)\n",
        "loss.item()"
      ],
      "metadata": {
        "colab": {
          "base_uri": "https://localhost:8080/"
        },
        "id": "eObOTQdinGHy",
        "outputId": "488b66f9-2a2c-4cca-b420-b0fdf089da1a"
      },
      "execution_count": 48,
      "outputs": [
        {
          "output_type": "execute_result",
          "data": {
            "text/plain": [
              "2.4916107654571533"
            ]
          },
          "metadata": {},
          "execution_count": 48
        }
      ]
    },
    {
      "cell_type": "code",
      "source": [
        "# then let's evaluate the loss using the dev set\n",
        "emb = C[Xdev]\n",
        "h = torch.tanh(emb.view(Xdev.shape[0],-1)@W1+b1)\n",
        "logits = h@W2+b2\n",
        "loss = F.cross_entropy(logits,Ydev)\n",
        "loss.item()\n",
        "# it's very close to the loss on the training set, so we're not overfitting\n",
        "# but the network is too tiny to overfit, it may suffer from underfitting now"
      ],
      "metadata": {
        "colab": {
          "base_uri": "https://localhost:8080/"
        },
        "id": "fYDXc8ammjK4",
        "outputId": "aa1d5b03-8ba5-4deb-c6d2-0d9a08fb6548"
      },
      "execution_count": 47,
      "outputs": [
        {
          "output_type": "execute_result",
          "data": {
            "text/plain": [
              "2.490128517150879"
            ]
          },
          "metadata": {},
          "execution_count": 47
        }
      ]
    },
    {
      "cell_type": "code",
      "source": [
        "# so let's try a more complicated network: one layer with 300 neurons\n",
        "g = torch.Generator().manual_seed(2147483647)\n",
        "C = torch.randn((27,2),generator=g)\n",
        "W1 = torch.randn((6,300),generator=g)\n",
        "b1 = torch.randn((300),generator=g)\n",
        "W2 = torch.randn((300,27),generator=g)\n",
        "b2 = torch.randn((27),generator=g)\n",
        "parameters = [C,W1,b1,W2,b2]\n",
        "num_parameters = sum([p.nelement() for p in parameters])\n",
        "print(num_parameters)\n",
        "\n",
        "for p in parameters:\n",
        "  p.requires_grad = True\n",
        "\n",
        "lossi = []\n",
        "stepi = []\n",
        "\n",
        "for i in range(30000):\n",
        "  ix = torch.randint(0,Xtr.shape[0],(32,))\n",
        "\n",
        "  emb = C[Xtr[ix]]\n",
        "  h = torch.tanh(emb.view(Xtr[ix].shape[0],-1)@W1+b1)\n",
        "  logits = h@W2+b2\n",
        "  loss = F.cross_entropy(logits,Ytr[ix])\n",
        "\n",
        "  for p in parameters:\n",
        "    p.grad = None\n",
        "  loss.backward()\n",
        "\n",
        "  lr = 0.1\n",
        "  for p in parameters:\n",
        "    p.data -= lr*p.grad\n",
        "\n",
        "  stepi.append(i)\n",
        "  lossi.append(loss.item())"
      ],
      "metadata": {
        "colab": {
          "base_uri": "https://localhost:8080/"
        },
        "id": "WZoI1dMPmjJI",
        "outputId": "97ee0905-a324-48df-cac9-d7e50daa078a"
      },
      "execution_count": 52,
      "outputs": [
        {
          "output_type": "stream",
          "name": "stdout",
          "text": [
            "10281\n"
          ]
        }
      ]
    },
    {
      "cell_type": "code",
      "source": [
        "plt.plot(stepi,lossi)"
      ],
      "metadata": {
        "colab": {
          "base_uri": "https://localhost:8080/",
          "height": 448
        },
        "id": "53PZcWXRmjGr",
        "outputId": "019808ca-c270-4b07-f24f-4468fc560c4b"
      },
      "execution_count": 53,
      "outputs": [
        {
          "output_type": "execute_result",
          "data": {
            "text/plain": [
              "[<matplotlib.lines.Line2D at 0x7ce5b05565f0>]"
            ]
          },
          "metadata": {},
          "execution_count": 53
        },
        {
          "output_type": "display_data",
          "data": {
            "text/plain": [
              "<Figure size 640x480 with 1 Axes>"
            ],
            "image/png": "[encoded data removed]"
          },
          "metadata": {}
        }
      ]
    },
    {
      "cell_type": "code",
      "source": [
        "# let's see the loss on the entire training set and dev set\n",
        "emb = C[Xtr]\n",
        "h = torch.tanh(emb.view(Xtr.shape[0],-1)@W1+b1)\n",
        "logits = h@W2+b2\n",
        "loss = F.cross_entropy(logits,Ytr)\n",
        "print(loss.item())\n",
        "emb = C[Xdev]\n",
        "h = torch.tanh(emb.view(Xdev.shape[0],-1)@W1+b1)\n",
        "logits = h@W2+b2\n",
        "loss = F.cross_entropy(logits,Ydev)\n",
        "print(loss.item())"
      ],
      "metadata": {
        "colab": {
          "base_uri": "https://localhost:8080/"
        },
        "id": "_l14RZf-mjEO",
        "outputId": "65c94906-b4de-4d6d-8d63-e71af6e207a6"
      },
      "execution_count": 54,
      "outputs": [
        {
          "output_type": "stream",
          "name": "stdout",
          "text": [
            "2.4961845874786377\n",
            "2.501142740249634\n"
          ]
        }
      ]
    },
    {
      "cell_type": "code",
      "source": [
        "# let's keep training\n",
        "lossi = []\n",
        "stepi = []\n",
        "\n",
        "for i in range(30000):\n",
        "  ix = torch.randint(0,Xtr.shape[0],(32,))\n",
        "\n",
        "  emb = C[Xtr[ix]]\n",
        "  h = torch.tanh(emb.view(Xtr[ix].shape[0],-1)@W1+b1)\n",
        "  logits = h@W2+b2\n",
        "  loss = F.cross_entropy(logits,Ytr[ix])\n",
        "\n",
        "  for p in parameters:\n",
        "    p.grad = None\n",
        "  loss.backward()\n",
        "\n",
        "  lr = 0.05\n",
        "  for p in parameters:\n",
        "    p.data -= lr*p.grad\n",
        "\n",
        "  stepi.append(i)\n",
        "  lossi.append(loss.item())"
      ],
      "metadata": {
        "id": "4uDF155jmjB5"
      },
      "execution_count": 63,
      "outputs": []
    },
    {
      "cell_type": "code",
      "source": [
        "emb = C[Xtr]\n",
        "h = torch.tanh(emb.view(Xtr.shape[0],-1)@W1+b1)\n",
        "logits = h@W2+b2\n",
        "loss = F.cross_entropy(logits,Ytr)\n",
        "print(loss.item())\n",
        "emb = C[Xdev]\n",
        "h = torch.tanh(emb.view(Xdev.shape[0],-1)@W1+b1)\n",
        "logits = h@W2+b2\n",
        "loss = F.cross_entropy(logits,Ydev)\n",
        "print(loss.item())\n",
        "# we can see the loss is better than the simpler network\n",
        "# but it's still not good enough\n",
        "# the bottlenet may be the embedding size, we embed a 27-length vector into a 2-length vector\n",
        "# next, let's work on that"
      ],
      "metadata": {
        "colab": {
          "base_uri": "https://localhost:8080/"
        },
        "id": "vxsylHj7mi_r",
        "outputId": "4fc47c34-c3bb-4c98-886a-0da532f72d96"
      },
      "execution_count": 64,
      "outputs": [
        {
          "output_type": "stream",
          "name": "stdout",
          "text": [
            "2.310014009475708\n",
            "2.321054458618164\n"
          ]
        }
      ]
    },
    {
      "cell_type": "code",
      "source": [
        "# first, let's visualize the 2-dim embeddings\n",
        "plt.figure(figsize=(6,6))\n",
        "plt.scatter(C[:,0].data,C[:,1].data,s=200)\n",
        "for i in range(C.shape[0]):\n",
        "  plt.text(C[i,0].item(),C[i,1].item(),itos[i],ha='center',va='center',color='white')\n",
        "plt.grid('minor')\n",
        "# we can get some sense from this plot\n",
        "# a e i o are close (don't know why u is also an outlier, unlike what's shown in the video)\n",
        "# q and . is kind of a outlier\n",
        "# other characters cluster together"
      ],
      "metadata": {
        "colab": {
          "base_uri": "https://localhost:8080/",
          "height": 522
        },
        "id": "gF-bN4Cfmi9U",
        "outputId": "75770cf8-9350-4bae-898b-244d5f212975"
      },
      "execution_count": 65,
      "outputs": [
        {
          "output_type": "display_data",
          "data": {
            "text/plain": [
              "<Figure size 600x600 with 1 Axes>"
            ],
            "image/png": "[encoded data removed]"
          },
          "metadata": {}
        }
      ]
    },
    {
      "cell_type": "code",
      "source": [
        "# so let's try a bigger embedding with a smaller network\n",
        "g = torch.Generator().manual_seed(2147483647)\n",
        "C = torch.randn((27,10),generator=g)\n",
        "W1 = torch.randn((30,200),generator=g)\n",
        "b1 = torch.randn((200),generator=g)\n",
        "W2 = torch.randn((200,27),generator=g)\n",
        "b2 = torch.randn((27),generator=g)\n",
        "parameters = [C,W1,b1,W2,b2]\n",
        "num_parameters = sum([p.nelement() for p in parameters])\n",
        "print(num_parameters)\n",
        "\n",
        "for p in parameters:\n",
        "  p.requires_grad = True\n",
        "\n",
        "lossi = []\n",
        "stepi = []"
      ],
      "metadata": {
        "colab": {
          "base_uri": "https://localhost:8080/"
        },
        "id": "-Fd1VIqFmi64",
        "outputId": "e14b81ff-3d3d-4a19-c229-d9d3fcbaa940"
      },
      "execution_count": 68,
      "outputs": [
        {
          "output_type": "stream",
          "name": "stdout",
          "text": [
            "11897\n"
          ]
        }
      ]
    },
    {
      "cell_type": "code",
      "source": [
        "# we may run this cell several times\n",
        "for i in range(30000):\n",
        "  ix = torch.randint(0,Xtr.shape[0],(32,))\n",
        "\n",
        "  emb = C[Xtr[ix]]\n",
        "  h = torch.tanh(emb.view(Xtr[ix].shape[0],-1)@W1+b1)\n",
        "  logits = h@W2+b2\n",
        "  loss = F.cross_entropy(logits,Ytr[ix])\n",
        "\n",
        "  for p in parameters:\n",
        "    p.grad = None\n",
        "  loss.backward()\n",
        "\n",
        "  lr = 0.01\n",
        "  for p in parameters:\n",
        "    p.data -= lr*p.grad\n",
        "\n",
        "  stepi.append(i)\n",
        "  lossi.append(loss.log10().item())"
      ],
      "metadata": {
        "id": "TUwHtyX4uUIj"
      },
      "execution_count": 77,
      "outputs": []
    },
    {
      "cell_type": "code",
      "source": [
        "plt.plot(stepi,lossi)"
      ],
      "metadata": {
        "colab": {
          "base_uri": "https://localhost:8080/",
          "height": 448
        },
        "id": "4_Pet0cOmi4Y",
        "outputId": "8b7bfc7e-1f91-42ea-e26a-51fe2f5a384b"
      },
      "execution_count": 75,
      "outputs": [
        {
          "output_type": "execute_result",
          "data": {
            "text/plain": [
              "[<matplotlib.lines.Line2D at 0x7ce5b04928c0>]"
            ]
          },
          "metadata": {},
          "execution_count": 75
        },
        {
          "output_type": "display_data",
          "data": {
            "text/plain": [
              "<Figure size 640x480 with 1 Axes>"
            ],
            "image/png": "[encoded data removed]"
          },
          "metadata": {}
        }
      ]
    },
    {
      "cell_type": "code",
      "source": [
        "emb = C[Xtr]\n",
        "h = torch.tanh(emb.view(Xtr.shape[0],-1)@W1+b1)\n",
        "logits = h@W2+b2\n",
        "loss = F.cross_entropy(logits,Ytr)\n",
        "print(loss.item())\n",
        "emb = C[Xdev]\n",
        "h = torch.tanh(emb.view(Xdev.shape[0],-1)@W1+b1)\n",
        "logits = h@W2+b2\n",
        "loss = F.cross_entropy(logits,Ydev)\n",
        "print(loss.item())\n",
        "# it works better than before, so it is the embedding size that holds us back"
      ],
      "metadata": {
        "colab": {
          "base_uri": "https://localhost:8080/"
        },
        "id": "y9wPgbFpuTFy",
        "outputId": "232cbd29-548c-448d-ae70-ba6d461da417"
      },
      "execution_count": 78,
      "outputs": [
        {
          "output_type": "stream",
          "name": "stdout",
          "text": [
            "2.208723306655884\n",
            "2.234503984451294\n"
          ]
        }
      ]
    },
    {
      "cell_type": "code",
      "source": [
        "# several things we can do to optimize (or say get a smaller loss):\n",
        "# 1.change the number of layers or the number of neurons\n",
        "# 2.change the size of embeddings or the size of context\n",
        "# 3.change the details of the optimization: number of epoches, learning rate, learning rate decay, batch size"
      ],
      "metadata": {
        "id": "EsCVH_xnvLWv"
      },
      "execution_count": null,
      "outputs": []
    },
    {
      "cell_type": "code",
      "source": [
        "# sample from the model\n",
        "g = torch.Generator().manual_seed(2147483647+10)\n",
        "\n",
        "for _ in range(20):\n",
        "  out = []\n",
        "  context = [0]*block_size\n",
        "  while True:\n",
        "    emb = C[torch.tensor([context])]\n",
        "    h = torch.tanh(emb.view(emb.shape[0],-1)@W1+b1)\n",
        "    logits = h@W2+b2\n",
        "    probs = F.softmax(logits,dim=1)\n",
        "    ix = torch.multinomial(probs,num_samples=1,replacement=True,generator=g).item()\n",
        "    context = context[1:] + [ix]\n",
        "    out.append(ix)\n",
        "    if ix == 0:\n",
        "      break\n",
        "  print(''.join([itos[i] for i in out]))"
      ],
      "metadata": {
        "colab": {
          "base_uri": "https://localhost:8080/"
        },
        "id": "tegtSkp5v5CU",
        "outputId": "821d8dd9-12db-4dbf-a71a-780c101fbf55"
      },
      "execution_count": 79,
      "outputs": [
        {
          "output_type": "stream",
          "name": "stdout",
          "text": [
            "mora.\n",
            "kayah.\n",
            "see.\n",
            "mad.\n",
            "ryah.\n",
            "rethrstengrlee.\n",
            "aderedieliigh.\n",
            "pore.\n",
            "leigh.\n",
            "estanar.\n",
            "kateimarkelin.\n",
            "shubergiai.\n",
            "jest.\n",
            "jaireth.\n",
            "konnterianu.\n",
            "zen.\n",
            "daryyah.\n",
            "faeha.\n",
            "kaysh.\n",
            "samyah.\n"
          ]
        }
      ]
    }
  ]
}